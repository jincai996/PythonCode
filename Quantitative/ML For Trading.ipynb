{
 "cells": [
  {
   "cell_type": "code",
   "execution_count": 86,
   "id": "a867c40d-0640-47f4-8dcc-df1a248fb55e",
   "metadata": {},
   "outputs": [],
   "source": [
    "import numpy as np\n",
    "import matplotlib.pyplot as plt\n",
    "import sys\n",
    "import akshare as ak\n",
    "import pandas as pd\n",
    "from datetime import datetime, timedelta\n",
    "import warnings\n",
    "warnings.filterwarnings('ignore')\n",
    "pd.options.display.max_rows=30\n",
    "# pd.options.display.max_columns=30"
   ]
  },
  {
   "cell_type": "markdown",
   "id": "37610b0e",
   "metadata": {},
   "source": [
    "# 1.DATA API"
   ]
  },
  {
   "cell_type": "code",
   "execution_count": 65,
   "id": "97a89045",
   "metadata": {},
   "outputs": [],
   "source": [
    "def get_us_symbol_hist_data(symbol):\n",
    "    '''\n",
    "        获取单只股票的每日数据\n",
    "    '''\n",
    "    df = ak.stock_us_hist(symbol=symbol, period=\"daily\", start_date=\"20210101\", end_date=\"20231231\", adjust=\"hfq\")\n",
    "    stock_hist = df[['日期', '开盘', '收盘', '最高', '最低', '成交量', '成交额', '涨跌幅']]\n",
    "    stock_hist.rename(columns={'日期': 'Data', '开盘': 'Open', '收盘': 'Close', '最高': 'High', '最低': 'Low', '成交量': 'Volume', '成交额': 'Amount', '涨跌幅':'Pct_Change', '换手率':'Turnover'},inplace=True)\n",
    "    stock_hist.set_index('Data',inplace=True)\n",
    "    stock_hist.index = pd.to_datetime(stock_hist.index)\n",
    "    \n",
    "    return  stock_hist"
   ]
  },
  {
   "cell_type": "code",
   "execution_count": 37,
   "id": "ecc7119b",
   "metadata": {},
   "outputs": [],
   "source": [
    "def get_us_symbol_single_column(symbol_list=['105.AAPL','105.AMZN','106.GOLD'],column_name='Close'):\n",
    "    '''\n",
    "        获取多只股票的每日字段数据\n",
    "    '''\n",
    "    df_list=[]\n",
    "    for symbol in symbol_list:\n",
    "        df = get_us_symbol_hist_data(symbol)\n",
    "        # 选取需要的数据列\n",
    "        symbol_close_data = df[[f'{column_name}']].rename(columns={f'{column_name}': symbol})\n",
    "        # 将单只股票的收盘价放入列表\n",
    "        df_list.append(symbol_close_data)\n",
    "\n",
    "    # 将列表中的数据合并为二维表\n",
    "    combined_df = pd.concat(df_list, axis=1, join='inner')  # 使用内连接，仅保留所有数据框中都有的日期\n",
    "\n",
    "    # 处理缺失数据（如果需要）\n",
    "    combined_df = combined_df.fillna(method='ffill').fillna(method='bfill')  # 向前填充和向后填充\n",
    "\n",
    "    return combined_df"
   ]
  },
  {
   "cell_type": "markdown",
   "id": "7a710ca9",
   "metadata": {},
   "source": [
    "# 2.图表绘制"
   ]
  },
  {
   "cell_type": "code",
   "execution_count": 38,
   "id": "02446513",
   "metadata": {},
   "outputs": [],
   "source": [
    "def plot_of_daily_returns(df):\n",
    "    '''\n",
    "        绘制收盘价曲线图\n",
    "    '''\n",
    "    plt.plot(df,label=list(df.columns))\n",
    "\n",
    "    # 添加图例和标题\n",
    "    plt.title('plot_of_daily_returns')\n",
    "    plt.xlabel('Time')\n",
    "    plt.ylabel('Colse')\n",
    "    plt.legend()\n",
    "    plt.grid(True)\n",
    "    plt.show()"
   ]
  },
  {
   "cell_type": "code",
   "execution_count": null,
   "id": "89743899",
   "metadata": {},
   "outputs": [],
   "source": [
    "# 收盘价曲线图\n",
    "df=get_us_symbol_single_column(symbol_list=['105.AAPL','105.AMZN','106.GOLD'],column_name='Close')\n",
    "\n",
    "# 例子\n",
    "plot_of_daily_returns(df)"
   ]
  },
  {
   "cell_type": "code",
   "execution_count": 40,
   "id": "6a5b75ee",
   "metadata": {},
   "outputs": [],
   "source": [
    "def histogram_of_daily_returns(df):\n",
    "    '''\n",
    "        绘制收益率直方图\n",
    "    '''\n",
    "    plt.hist(df, bins=50)\n",
    "\n",
    "    # 绘制均值和方差\n",
    "    plt.axvline(df.mean()          , color='red',  linestyle='dashed', linewidth=2, label='mean')\n",
    "    plt.axvline(+np.sqrt(df.std()) ,color='green', linestyle='dashed', linewidth=2, label='+std')\n",
    "    plt.axvline(-np.sqrt(df.std()) ,color='green', linestyle='dashed', linewidth=2, label='-std')\n",
    "\n",
    "    # 添加图例和标题\n",
    "    plt.title(f'histogram_of_daily_returns')\n",
    "    plt.xlabel('Pct (%)')\n",
    "    plt.ylabel('fre')\n",
    "    plt.legend()\n",
    "    plt.grid(True)\n",
    "    plt.show()\n",
    "\n",
    "# 例子\n",
    "df=get_us_symbol_hist_data('105.AAPL')['P_Change']\n",
    "histogram_of_daily_returns(df)"
   ]
  },
  {
   "cell_type": "code",
   "execution_count": 42,
   "id": "b526c3a2",
   "metadata": {},
   "outputs": [],
   "source": [
    "def scatter_double_symbol_daily_return(df):\n",
    "    '''\n",
    "        两只股票收益率相关曲线\n",
    "    '''\n",
    "    plt.scatter(df.iloc[:,0], df.iloc[:,1])     #X轴为第一支股票的收益率 Y轴为第二只股票收益率\n",
    "\n",
    "    # 拟合曲线\n",
    "    beta,alpha= np.polyfit(df.iloc[:,0], df.iloc[:,1], deg=1)   #斜距，斜率\n",
    "    plt.plot(df.iloc[:,0],beta*df.iloc[:,0]+alpha,'--',color='red')\n",
    "\n",
    "    # 计算相关系数\n",
    "    pearson_corr=df.corr(method='pearson')      #皮尔逊相关性检验\n",
    "    print(pearson_corr)\n",
    "\n",
    "    # Customize the plot (optional)\n",
    "    plt.xlabel(f'{df.columns[0]}')\n",
    "    plt.ylabel(f'{df.columns[1]}')\n",
    "    plt.title(f'Correlation between {df.columns[0]} and {df.columns[1]}')\n",
    "    plt.grid(True)  # Show grid lines \n",
    "    plt.show()\n",
    "\n",
    "# 例子\n",
    "df=get_us_symbol_single_column(['105.AAPL','106.GOLD'],'Pct_Change')\n",
    "scatter_double_symbol_daily_return(df)"
   ]
  },
  {
   "cell_type": "markdown",
   "id": "881be52b",
   "metadata": {},
   "source": [
    "# 3.指标计算"
   ]
  },
  {
   "cell_type": "markdown",
   "id": "655ea92a",
   "metadata": {},
   "source": [
    "### 2.1单一组合收益类计算\n",
    "总收益率:\n",
    "$ total-retuen=\\left(\\frac{P_{n}}{P_1}\\right)-1 $\n",
    "\n",
    "时点收益率:\n",
    "$ position-retuen=\\left(\\frac{P_{m}}{P_1}\\right)-1 $\n",
    "\n",
    "注：对数计算\n",
    "$ log(\\frac{t4}{t1})=\\log(\\frac{t4}{t3})+\\log(\\frac{t3}{t2})+\\log\\left(\\frac{t2}{t1}\\right) $\n",
    "\n",
    "最大回撤:$ maxdown=\\max((Di-Dj)/Di) $\n",
    "\n",
    "注：D为某一天的净值，i为某一天，j为i后的某一天，Di为第i天的产品净值，Dj则是Di后面某一天的净值\n",
    "\n",
    "夏普比率\n",
    "\n",
    "$ SharpeRatio=\\frac{E\\left(Rp\\right)-Rf}{\\sigma p} $\n",
    "\n",
    "其中E(Rp)：投资组合预期年化报酬率\n",
    "Rf：年化无风险利率\n",
    "σp：投资组合年化报酬率的标准差\n",
    "\n",
    "每日无风险收益率:\n",
    "采用国债或者储蓄利率，按365天计算\n",
    "\n",
    "$ 日收益率=\\sqrt[365]{1+年收益率}-1 $"
   ]
  },
  {
   "cell_type": "code",
   "execution_count": 133,
   "id": "df1e5ef7",
   "metadata": {},
   "outputs": [],
   "source": [
    "# 数据获取\n",
    "single_symbol=get_us_symbol_hist_data('106.GOLD')"
   ]
  },
  {
   "cell_type": "code",
   "execution_count": 134,
   "id": "20e14d5a",
   "metadata": {},
   "outputs": [],
   "source": [
    "# 每日对数收益率\n",
    "single_symbol['Log_Change'] = np.log(single_symbol['Close'] / single_symbol['Close'].shift(1))"
   ]
  },
  {
   "cell_type": "code",
   "execution_count": 137,
   "id": "d60933e0",
   "metadata": {},
   "outputs": [],
   "source": [
    "# 时点收益率(对数)\n",
    "single_symbol['Position_Return']=np.exp(single_symbol['Log_Change'].cumsum())-1\n",
    "\n",
    "# 时点收益率(普通)\n",
    "single_symbol['Position_Return']=single_symbol['Close'].div(single_symbol['Close'].iloc[0])-1\n",
    "\n",
    "# 最终累计收益率\n",
    "最终累计收益率=(single_symbol['Close'][-1]/single_symbol['Close'][0])-1"
   ]
  },
  {
   "cell_type": "code",
   "execution_count": 143,
   "id": "3527f8f8",
   "metadata": {},
   "outputs": [],
   "source": [
    "# 区间最大收盘价格\n",
    "single_symbol['Max_Close']=single_symbol['Close'].cummax()\n",
    "\n",
    "# 计算每个时点的最大回撤\n",
    "single_symbol['Max_Drawdown']=1-single_symbol['Close']/single_symbol['Max_Close'] \n",
    "\n",
    "# 取其中的最大回撤\n",
    "max_drawdown=max(single_symbol['Max_Drawdown'])"
   ]
  },
  {
   "cell_type": "code",
   "execution_count": 154,
   "id": "45f3be0b",
   "metadata": {},
   "outputs": [],
   "source": [
    "# 根据无风险年化收益率计算每日无风险收益率\n",
    "daily_free_risk_rate2=pow(1+0.02, 1/365)-1\n",
    "daily_free_risk_rate=0.02/265   #简化计算\n",
    "\n",
    "sharp_ratio=(single_symbol['Pct_Change'] - daily_free_risk_rate).mean()/single_symbol['Pct_Change'].std()"
   ]
  },
  {
   "cell_type": "markdown",
   "id": "4c66e4a5",
   "metadata": {},
   "source": [
    "### 2.2资产组合收益类计算\n",
    "同2.1\n"
   ]
  },
  {
   "cell_type": "code",
   "execution_count": 168,
   "id": "71ffddcb",
   "metadata": {},
   "outputs": [],
   "source": [
    "# 获取资产组合的收盘价数据\n",
    "portfolios_close=get_us_symbol_single_column(symbol_list=['105.AAPL','105.AMZN','106.GOLD','107.SPYD'],column_name='Close')"
   ]
  },
  {
   "cell_type": "code",
   "execution_count": 169,
   "id": "5343339e",
   "metadata": {},
   "outputs": [],
   "source": [
    "# 归一化收盘价,计算每天收盘价相对于第一天收盘价的百分比\n",
    "portfolios_close=portfolios_close.div(portfolios_close.iloc[0], axis=1)\n",
    "\n",
    "# 初始化资金(权重4:3:2:1)\n",
    "portfolios_close=portfolios_close.apply(lambda x: x * [4000,3000,2000,1000], axis=1)"
   ]
  },
  {
   "cell_type": "code",
   "execution_count": 173,
   "id": "20741d69",
   "metadata": {},
   "outputs": [],
   "source": [
    "# 组合资产时点收盘价\n",
    "portfolios_close['Portfolios_Close']=portfolios_close.sum(axis=1)      #计算每一个交易日时点的资金"
   ]
  },
  {
   "cell_type": "markdown",
   "id": "0bdc7efe-a2ea-48a4-ac5a-5ceb61fc9689",
   "metadata": {},
   "source": [
    "$x=\\frac{-b\\pm\\sqrt{b^2-4ac}}{2a}$"
   ]
  }
 ],
 "metadata": {
  "kernelspec": {
   "display_name": "Python 3",
   "language": "python",
   "name": "python3"
  },
  "language_info": {
   "codemirror_mode": {
    "name": "ipython",
    "version": 3
   },
   "file_extension": ".py",
   "mimetype": "text/x-python",
   "name": "python",
   "nbconvert_exporter": "python",
   "pygments_lexer": "ipython3",
   "version": "3.12.3"
  }
 },
 "nbformat": 4,
 "nbformat_minor": 5
}
